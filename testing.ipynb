{
 "cells": [
  {
   "cell_type": "code",
   "execution_count": 1,
   "metadata": {},
   "outputs": [
    {
     "name": "stderr",
     "output_type": "stream",
     "text": [
      "Warning: ignoring 1 directive(s) that can only be used prior to any code:\n",
      "  //> using scala\n"
     ]
    },
    {
     "data": {
      "text/plain": [
       "\u001b[32mimport \u001b[39m\u001b[36m$repo.$\u001b[39m\n",
       "\u001b[32mimport \u001b[39m\u001b[36m$repo.$\u001b[39m\n",
       "\u001b[36mchiselVersion\u001b[39m: \u001b[32mString\u001b[39m = \u001b[32m\"7.0.0-M1+151-9f148207+20240624-0044-SNAPSHOT\"\u001b[39m"
      ]
     },
     "execution_count": 1,
     "metadata": {},
     "output_type": "execute_result"
    }
   ],
   "source": [
    "////> using repository \"sonatype-s01:snapshots\"\n",
    "//> using scala \"2.13.14\"\n",
    "////> using dep \"org.chipsalliance::chisel:latest.integration\"\n",
    "////> using plugin \"org.chipsalliance:::chisel-plugin:latest.integration\"\n",
    "///> using options \"-unchecked\", \"-deprecation\", \"-language:reflectiveCalls\", \"-feature\", \"-Xcheckinit\", \"-Xfatal-warnings\", \"-Ywarn-dead-code\", \"-Ywarn-unused\", \"-Ymacro-annotations\"\n",
    "//> using options \"-unchecked\", \"-deprecation\", \"-language:reflectiveCalls\", \"-feature\", \"-Xcheckinit\", \"-Ymacro-annotations\"\n",
    "\n",
    "import $repo.`https://oss.sonatype.org/content/repositories/releases`\n",
    "import $repo.`https://oss.sonatype.org/content/repositories/snapshots`\n",
    "\n",
    "import $ivy.`org.chipsalliance::chisel:latest.integration`\n",
    "import $plugin.$ivy.`org.chipsalliance:::chisel-plugin:latest.integration`\n",
    "\n",
    "// val chiselVersion = \"7.0.0-M1+151-9f148207+20240624-0044-SNAPSHOT\"\n",
    "// interp.load.ivy(\"org.chipsalliance\" %% \"chisel\" % chiselVersion)\n",
    "// interp.load.plugin.ivy(\"org.chipsalliance\" % s\"chisel-plugin_${scalaVersion.value}\" % chiselVersion)"
   ]
  },
  {
   "cell_type": "code",
   "execution_count": 2,
   "metadata": {},
   "outputs": [
    {
     "name": "stderr",
     "output_type": "stream",
     "text": [
      "cmd2.sc:9: reference to Input is ambiguous;\n",
      "it is imported twice in the same scope by\n",
      "import chisel3._\n",
      "and import _root_.almond.input.Input\n",
      "  val a, b, c = IO(Input(Bool()))\n",
      "                   ^\n",
      "cmd2.sc:10: reference to Input is ambiguous;\n",
      "it is imported twice in the same scope by\n",
      "import chisel3._\n",
      "and import _root_.almond.input.Input\n",
      "  val d, e, f = IO(Input(Bool()))\n",
      "                   ^\n",
      "cmd2.sc:11: reference to Input is ambiguous;\n",
      "it is imported twice in the same scope by\n",
      "import chisel3._\n",
      "and import _root_.almond.input.Input\n",
      "  val foo, bar = IO(Input(UInt(8.W)))\n",
      "                    ^\n",
      "Compilation Failed"
     ]
    }
   ],
   "source": [
    "\n",
    "import chisel3._\n",
    "// _root_ disambiguates from package chisel3.util.circt if user imports chisel3.util._\n",
    "import _root_.circt.stage.ChiselStage\n",
    "\n",
    "println(\"// Using chisel \" + chisel3.BuildInfo.version)\n",
    "\n",
    "class Foo extends Module {\n",
    "  val a, b, c = IO(Input(Bool()))\n",
    "  val d, e, f = IO(Input(Bool()))\n",
    "  val foo, bar = IO(Input(UInt(8.W)))\n",
    "  val out = IO(Output(UInt(8.W)))\n",
    "\n",
    "  val myReg = RegInit(0.U(8.W))\n",
    "  out := myReg\n",
    "\n",
    "  when(a && b && c) {\n",
    "    myReg := foo\n",
    "  }\n",
    "  when(d && e && f) {\n",
    "    myReg := bar\n",
    "  }\n",
    "}\n",
    "\n",
    "// object Main extends App {\n",
    "  println(\n",
    "    ChiselStage.emitSystemVerilog(\n",
    "      gen = new Foo,\n",
    "      firtoolOpts = Array(\"-disable-all-randomization\", \"-strip-debug-info\")\n",
    "    )\n",
    "  )\n",
    "// }\n"
   ]
  },
  {
   "cell_type": "code",
   "execution_count": 8,
   "metadata": {},
   "outputs": [
    {
     "name": "stderr",
     "output_type": "stream",
     "text": [
      "cmd8.sc:20: scala.concurrent.Await.type does not take parameters\n",
      "val res8_6 = Await(combined)\n",
      "                  ^\n",
      "Compilation Failed"
     ]
    }
   ],
   "source": [
    "import scala.concurrent._\n",
    "\n",
    "implicit val ec: scala.concurrent.ExecutionContext = scala.concurrent.ExecutionContext.global\n",
    "\n",
    "\n",
    "val tasks = scala.collection.mutable.ListBuffer.empty[Future[Int]]\n",
    "\n",
    "tasks.append(Future {\n",
    "  println(\"Task1\")\n",
    "  42\n",
    "})\n",
    "\n",
    "tasks.append(Future {\n",
    "  println(\"Task2\")\n",
    "  24\n",
    "})\n",
    "\n",
    "val combined = Future.sequence(tasks)\n",
    "\n",
    "Await.(combined)\n",
    "\n"
   ]
  },
  {
   "cell_type": "code",
   "execution_count": 7,
   "metadata": {},
   "outputs": [
    {
     "name": "stdout",
     "output_type": "stream",
     "text": [
      "All steps completed.\n"
     ]
    },
    {
     "data": {
      "text/plain": [
       "\u001b[32mimport \u001b[39m\u001b[36mscala.concurrent._\u001b[39m\n",
       "\u001b[32mimport \u001b[39m\u001b[36mscala.concurrent.duration._\u001b[39m\n",
       "\u001b[32mimport \u001b[39m\u001b[36mscala.concurrent.ExecutionContext.Implicits.global\u001b[39m\n",
       "\u001b[32mimport \u001b[39m\u001b[36mjava.util.concurrent.atomic.AtomicInteger\u001b[39m\n",
       "defined \u001b[32mobject\u001b[39m \u001b[36mLockStepExample\u001b[39m"
      ]
     },
     "execution_count": 7,
     "metadata": {},
     "output_type": "execute_result"
    }
   ],
   "source": [
    "import scala.concurrent._\n",
    "import scala.concurrent.duration._\n",
    "import scala.concurrent.ExecutionContext.Implicits.global\n",
    "import java.util.concurrent.atomic.AtomicInteger\n",
    "\n",
    "object LockStepExample extends App {\n",
    "\n",
    "  val numWorkers = 3\n",
    "\n",
    "  // A barrier that ensures all workers reach the step before any can proceed\n",
    "  class StepBarrier(totalWorkers: Int) {\n",
    "    private val stepCount = new AtomicInteger(0)\n",
    "    private val promise = Promise[Unit]()\n",
    "\n",
    "    def step(): Future[Unit] = {\n",
    "      val currentStep = stepCount.incrementAndGet()\n",
    "      if (currentStep == totalWorkers) {\n",
    "        promise.success(())\n",
    "      }\n",
    "      promise.future\n",
    "    }\n",
    "\n",
    "    def reset(): Unit = {\n",
    "      stepCount.set(0)\n",
    "      promise.completeWith(Promise[Unit]().future)\n",
    "    }\n",
    "  }\n",
    "\n",
    "  val stepBarrier = new StepBarrier(numWorkers)\n",
    "\n",
    "  // Worker function\n",
    "  def worker(id: Int): Future[Unit] = Future {\n",
    "    for (i <- 1 to 15) {\n",
    "      println(s\"Worker $id: Step $i\")\n",
    "      Await.result(stepBarrier.step(), Duration.Inf)\n",
    "    }\n",
    "  }\n",
    "\n",
    "  // Start worker futures\n",
    "  val workerFutures = (1 to numWorkers).map(worker)\n",
    "\n",
    "  // Scheduler function\n",
    "  def scheduler(): Future[Unit] = Future {\n",
    "    println(\"Scheduler: Starting\")\n",
    "    for (i <- 1 to 5) {\n",
    "      Await.result(Future.sequence(workerFutures), Duration.Inf)\n",
    "      println(s\"Scheduler: All workers reached step $i\")\n",
    "      stepBarrier.reset()\n",
    "    }\n",
    "  }\n",
    "\n",
    "  // Start the scheduler\n",
    "  val schedulerFuture = scheduler()\n",
    "\n",
    "  // Wait for all to complete\n",
    "  Await.result(schedulerFuture, Duration.Inf)\n",
    "  println(\"All steps completed.\")\n",
    "}\n",
    "\n",
    "LockStepExample.main(Array.empty)"
   ]
  }
 ],
 "metadata": {
  "kernelspec": {
   "display_name": "Scala",
   "language": "scala",
   "name": "scala"
  },
  "language_info": {
   "codemirror_mode": "text/x-scala",
   "file_extension": ".sc",
   "mimetype": "text/x-scala",
   "name": "scala",
   "nbconvert_exporter": "script",
   "version": "2.13.12"
  }
 },
 "nbformat": 4,
 "nbformat_minor": 2
}
